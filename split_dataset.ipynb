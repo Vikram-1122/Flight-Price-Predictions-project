{
 "cells": [
  {
   "cell_type": "code",
   "execution_count": 7,
   "id": "775d29ac-cf8d-4650-8435-2fe72ee763ba",
   "metadata": {},
   "outputs": [],
   "source": [
    "import csv\n",
    "import os\n",
    "import sys\n",
    "sys.path.append('..')\n",
    "\n",
    "def split_csv(input_file, n, output_dir):\n",
    "    with open(input_file, 'r', newline='', encoding='utf-8') as csvfile:\n",
    "        reader = list(csv.reader(csvfile))\n",
    "        header, rows = reader[0], reader[1:]\n",
    "    \n",
    "    total_rows = len(rows)\n",
    "    rows_per_file = total_rows // n\n",
    "    extra_rows = total_rows % n\n",
    "    \n",
    "    os.makedirs(output_dir, exist_ok=True)\n",
    "    start = 0\n",
    "    for i in range(n):\n",
    "        end = start + rows_per_file + (1 if i < extra_rows else 0)\n",
    "        with open(f\"{output_dir}/data_{i+1}.csv\", 'w', newline='', encoding='utf-8') as out_csv:\n",
    "            writer = csv.writer(out_csv)\n",
    "            writer.writerow(header)\n",
    "            writer.writerows(rows[start:end])\n",
    "        start = end\n",
    "    print(\"Split Successful\")\n",
    "        \n"
   ]
  },
  {
   "cell_type": "code",
   "execution_count": 8,
   "id": "39d1eed7-f544-4e52-80b5-a467ccf6cb47",
   "metadata": {},
   "outputs": [
    {
     "name": "stdout",
     "output_type": "stream",
     "text": [
      "Enter number of files to be created 3000\n"
     ]
    },
    {
     "name": "stdout",
     "output_type": "stream",
     "text": [
      "Split Successful\n"
     ]
    }
   ],
   "source": [
    "input_file = './flight_data.csv'\n",
    "output_dir = './airflow-alpha/raw_data'\n",
    "n = int(input('Enter number of files to be created'))\n",
    "split_csv(input_file, n, output_dir)"
   ]
  },
  {
   "cell_type": "code",
   "execution_count": null,
   "id": "0749f697-c180-4611-897e-451c29fc95f4",
   "metadata": {},
   "outputs": [],
   "source": []
  }
 ],
 "metadata": {
  "kernelspec": {
   "display_name": "Python 3 (ipykernel)",
   "language": "python",
   "name": "python3"
  },
  "language_info": {
   "codemirror_mode": {
    "name": "ipython",
    "version": 3
   },
   "file_extension": ".py",
   "mimetype": "text/x-python",
   "name": "python",
   "nbconvert_exporter": "python",
   "pygments_lexer": "ipython3",
   "version": "3.12.3"
  }
 },
 "nbformat": 4,
 "nbformat_minor": 5
}
