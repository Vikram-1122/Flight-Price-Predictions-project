{
 "cells": [
  {
   "cell_type": "code",
   "execution_count": 1,
   "id": "460519dd",
   "metadata": {},
   "outputs": [
    {
     "name": "stdout",
     "output_type": "stream",
     "text": [
      "Removed: ./airflow-alpha/raw_data\\data_20.csv\n",
      "Removed: ./airflow-alpha/raw_data\\data_21.csv\n",
      "Removed: ./airflow-alpha/raw_data\\data_22.csv\n",
      "Removed: ./airflow-alpha/raw_data\\data_23.csv\n",
      "Removed: ./airflow-alpha/raw_data\\data_24.csv\n",
      "Removed: ./airflow-alpha/raw_data\\data_25.csv\n",
      "Removed: ./airflow-alpha/raw_data\\data_26.csv\n",
      "Removed: ./airflow-alpha/raw_data\\data_27.csv\n",
      "Removed: ./airflow-alpha/raw_data\\data_28.csv\n",
      "Removed: ./airflow-alpha/raw_data\\data_29.csv\n",
      "Removed: ./airflow-alpha/raw_data\\data_3.csv\n",
      "Removed: ./airflow-alpha/raw_data\\data_30.csv\n",
      "Removed: ./airflow-alpha/raw_data\\data_31.csv\n",
      "Removed: ./airflow-alpha/raw_data\\data_32.csv\n",
      "Removed: ./airflow-alpha/raw_data\\data_33.csv\n",
      "Removed: ./airflow-alpha/raw_data\\data_34.csv\n",
      "Removed: ./airflow-alpha/raw_data\\data_35.csv\n",
      "Removed: ./airflow-alpha/raw_data\\data_36.csv\n",
      "Removed: ./airflow-alpha/raw_data\\data_37.csv\n",
      "Removed: ./airflow-alpha/raw_data\\data_38.csv\n",
      "Removed: ./airflow-alpha/raw_data\\data_39.csv\n",
      "Removed: ./airflow-alpha/raw_data\\data_4.csv\n",
      "Removed: ./airflow-alpha/raw_data\\data_40.csv\n",
      "Removed: ./airflow-alpha/raw_data\\data_41.csv\n",
      "Removed: ./airflow-alpha/raw_data\\data_42.csv\n",
      "Removed: ./airflow-alpha/raw_data\\data_43.csv\n",
      "Removed: ./airflow-alpha/raw_data\\data_44.csv\n",
      "Removed: ./airflow-alpha/raw_data\\data_45.csv\n",
      "Removed: ./airflow-alpha/raw_data\\data_46.csv\n",
      "Removed: ./airflow-alpha/raw_data\\data_47.csv\n",
      "Removed: ./airflow-alpha/raw_data\\data_48.csv\n",
      "Removed: ./airflow-alpha/raw_data\\data_49.csv\n",
      "Removed: ./airflow-alpha/raw_data\\data_5.csv\n",
      "Removed: ./airflow-alpha/raw_data\\data_50.csv\n",
      "Removed: ./airflow-alpha/raw_data\\data_6.csv\n",
      "Removed: ./airflow-alpha/raw_data\\data_7.csv\n",
      "Removed: ./airflow-alpha/raw_data\\data_8.csv\n",
      "Removed: ./airflow-alpha/raw_data\\data_9.csv\n",
      "Removed: ./airflow-alpha/good_data\\data_1.csv\n",
      "Removed: ./airflow-alpha/good_data\\data_10.csv\n",
      "Removed: ./airflow-alpha/good_data\\data_11.csv\n",
      "Removed: ./airflow-alpha/good_data\\data_12.csv\n",
      "Removed: ./airflow-alpha/good_data\\data_13.csv\n",
      "Removed: ./airflow-alpha/good_data\\data_14.csv\n",
      "Removed: ./airflow-alpha/good_data\\data_15.csv\n",
      "Removed: ./airflow-alpha/good_data\\data_16.csv\n",
      "Removed: ./airflow-alpha/good_data\\data_17.csv\n",
      "Removed: ./airflow-alpha/good_data\\data_18.csv\n",
      "Removed: ./airflow-alpha/good_data\\data_19.csv\n",
      "Removed: ./airflow-alpha/good_data\\data_2.csv\n",
      "Removed: ./airflow-alpha/bad_data\\data_1.csv\n",
      "Removed: ./airflow-alpha/bad_data\\data_10.csv\n",
      "Removed: ./airflow-alpha/bad_data\\data_11.csv\n",
      "Removed: ./airflow-alpha/bad_data\\data_12.csv\n",
      "Removed: ./airflow-alpha/bad_data\\data_13.csv\n",
      "Removed: ./airflow-alpha/bad_data\\data_14.csv\n",
      "Removed: ./airflow-alpha/bad_data\\data_15.csv\n",
      "Removed: ./airflow-alpha/bad_data\\data_16.csv\n",
      "Removed: ./airflow-alpha/bad_data\\data_17.csv\n",
      "Removed: ./airflow-alpha/bad_data\\data_18.csv\n",
      "Removed: ./airflow-alpha/bad_data\\data_19.csv\n",
      "Removed: ./airflow-alpha/bad_data\\data_2.csv\n"
     ]
    }
   ],
   "source": [
    "import os\n",
    "import glob\n",
    "import sys\n",
    "sys.path.append('..')\n",
    "\n",
    "def remove_csv_files(folder_path):\n",
    "    csv_files = glob.glob(os.path.join(folder_path, \"*.csv\"))\n",
    "    \n",
    "    for file in csv_files:\n",
    "        os.remove(file)\n",
    "        print(f\"Removed: {file}\")\n",
    "\n",
    "\n",
    "folder_path = './airflow-alpha/raw_data' \n",
    "remove_csv_files(folder_path)\n",
    "\n",
    "folder_path = './airflow-alpha/good_data' \n",
    "remove_csv_files(folder_path)\n",
    "\n",
    "folder_path = './airflow-alpha/bad_data' \n",
    "remove_csv_files(folder_path)"
   ]
  },
  {
   "cell_type": "code",
   "execution_count": 2,
   "id": "775d29ac-cf8d-4650-8435-2fe72ee763ba",
   "metadata": {},
   "outputs": [],
   "source": [
    "import csv\n",
    "import os\n",
    "import sys\n",
    "sys.path.append('..')\n",
    "\n",
    "def split_csv(input_file, n, output_dir):\n",
    "    with open(input_file, 'r', newline='', encoding='utf-8') as csvfile:\n",
    "        reader = list(csv.reader(csvfile))\n",
    "        header, rows = reader[0], reader[1:]\n",
    "    \n",
    "    total_rows = len(rows)\n",
    "    rows_per_file = total_rows // n\n",
    "    extra_rows = total_rows % n\n",
    "    \n",
    "    os.makedirs(output_dir, exist_ok=True)\n",
    "    start = 0\n",
    "    for i in range(n):\n",
    "        end = start + rows_per_file + (1 if i < extra_rows else 0)\n",
    "        with open(f\"{output_dir}/data_{i+1}.csv\", 'w', newline='', encoding='utf-8') as out_csv:\n",
    "            writer = csv.writer(out_csv)\n",
    "            writer.writerow(header)\n",
    "            writer.writerows(rows[start:end])\n",
    "        start = end\n",
    "    print(f\"Split Successful with number of files {n}\")\n",
    "        \n"
   ]
  },
  {
   "cell_type": "code",
   "execution_count": 3,
   "id": "39d1eed7-f544-4e52-80b5-a467ccf6cb47",
   "metadata": {},
   "outputs": [
    {
     "name": "stdout",
     "output_type": "stream",
     "text": [
      "Split Successful with number of files 50\n"
     ]
    }
   ],
   "source": [
    "input_file = './flight_data.csv'\n",
    "output_dir = './airflow-alpha/raw_data'\n",
    "n = int(input('Enter number of files to be created'))\n",
    "split_csv(input_file, n, output_dir)"
   ]
  },
  {
   "cell_type": "code",
   "execution_count": null,
   "id": "0749f697-c180-4611-897e-451c29fc95f4",
   "metadata": {},
   "outputs": [],
   "source": []
  }
 ],
 "metadata": {
  "kernelspec": {
   "display_name": "sky",
   "language": "python",
   "name": "python3"
  },
  "language_info": {
   "codemirror_mode": {
    "name": "ipython",
    "version": 3
   },
   "file_extension": ".py",
   "mimetype": "text/x-python",
   "name": "python",
   "nbconvert_exporter": "python",
   "pygments_lexer": "ipython3",
   "version": "3.12.3"
  }
 },
 "nbformat": 4,
 "nbformat_minor": 5
}
