{
 "cells": [
  {
   "cell_type": "code",
   "execution_count": null,
   "id": "2214d5a2-da6a-4c2d-a5b8-2df4c1d8fb9a",
   "metadata": {},
   "outputs": [],
   "source": []
  }
 ],
 "metadata": {
  "kernelspec": {
   "display_name": "",
   "name": ""
  },
  "language_info": {
   "name": ""
  }
 },
 "nbformat": 4,
 "nbformat_minor": 5
}
