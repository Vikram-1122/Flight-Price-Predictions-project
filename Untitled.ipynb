{
 "cells": [
  {
   "cell_type": "code",
   "execution_count": 13,
   "id": "f29c4f26-15a1-4df0-bb35-09e26ebda8e9",
   "metadata": {},
   "outputs": [
    {
     "name": "stdout",
     "output_type": "stream",
     "text": [
      "Status Code: 500\n",
      "Response Text: Internal Server Error\n"
     ]
    }
   ],
   "source": [
    "import requests\n",
    "\n",
    "# Define a single prediction input in JSON format\n",
    "json_data = {\n",
    "    \"airline\": \"IndiGo\",\n",
    "    \"flight\": \"6E-732\",\n",
    "    \"source_city\": \"Delhi\",\n",
    "    \"departure_time\": \"Morning\",\n",
    "    \"stops\": \"non-stop\",\n",
    "    \"arrival_time\": \"Morning\",\n",
    "    \"destination_city\": \"Mumbai\",\n",
    "    \"travel_class\": \"Economy\",\n",
    "    \"duration\": 2.0,\n",
    "    \"days_left\": 15,\n",
    "    \"price\": 5000\n",
    "}\n",
    "\n",
    "# Make a POST request to the FastAPI /predict endpoint\n",
    "response = requests.post(\"http://localhost:8000/predict\", json=json_data)\n",
    "\n",
    "# Check the response status code and content\n",
    "print(\"Status Code:\", response.status_code)\n",
    "print(\"Response Text:\", response.text)  # Use .text to get raw response content\n",
    "\n"
   ]
  },
  {
   "cell_type": "code",
   "execution_count": 9,
   "id": "6dbb59a3-6f9f-453b-acb7-749bc4e8ff14",
   "metadata": {},
   "outputs": [
    {
     "name": "stdout",
     "output_type": "stream",
     "text": [
      "200\n",
      "{'predictions': [3519.3469061070064, 7513.958888872727, 7581.232220977217, 7893.442315303975, 8596.126115032788, 7979.552180397724, 6740.901367064122, 8663.399447137279, 7997.789723798298, 8975.609541464037, 8083.899588892047, 9061.270917677091, 6495.435770039796, 7752.324126773969, 8836.24628844962, 8903.51962055411, 7837.985502987023, 7577.154507319159, 9215.28122600017, 8834.042864053336, 9301.391091093923, 8920.152729147085, 4400.563866756511, 5500.84134634638, 5567.8048973369805, 6586.286702438123, 5611.411626383062, 6025.773877890137, 3962.0672647164756, 4047.57814022154, 4363.339289658692, 4815.173461722799, 10647.486143532224, 8533.154615887364, 10546.576145375486, 10628.649610542965, 10936.823304943453, 8035.014300896117, 11037.73330310019, 11067.782058106863, 8132.336388007279, 8275.877807256933, 8177.18527607694, 8373.1998943681, 8847.458510467033, 8929.531975634512, 9237.705670035, 4464.322410357163, 4547.040504207391, 3729.7281056310567, 5224.2571542800215, 7848.593427234315, 7949.503425391053, 7979.552180397724, 8553.313197871226, 8635.386663038706, 8943.560357439193, 9044.470355595931, 9074.519110602603, 4823.5779615738065, 4824.255381885658, 4956.12419676462, 4957.25010595717, 7957.127736362894, 7600.37853508037, 7971.927869425883, 10907.223038817476, 7591.202283971052, 10572.588500455888, 356.2002132830203, -18.928921894272207, -3627.081854333148, -1349.0534159567287, -3585.8439307094523, -5370.687464452414, -3471.902777585783, -1578.7415562353126, -1893.669019449073, -1451.3338581822973, -1633.6399011946596, -1873.8331971532207, -2352.6907399137854, -1575.153645189741, -1950.2827803670298, -3481.4038053037075, 4326.643841269346, 5442.533400928558, 5509.806733033052, 5528.643266022311, 4418.607479459635, 5399.375160763178, 6451.759064949361, 5834.919697281504, 5444.224048832839, 4324.873303394044, 3954.04604672407, 5377.260497842239, 5444.533829946729, 6447.905720870993, 5280.462315840574]}\n"
     ]
    }
   ],
   "source": [
    "import requests\n",
    "\n",
    "\n",
    "# Define the file path\n",
    "file_path = \"C:/Users/sumith singh/dsp-skyprix/airflow-alpha/raw_data/data_1682.csv\"\n",
    "\n",
    "# Open the file and make a POST request\n",
    "with open(file_path, 'rb') as f:\n",
    "    response = requests.post(\"http://localhost:8000/predict\", files={\"file\": f})\n",
    "\n",
    "# Check the response\n",
    "print(response.status_code)  # Should be 200 if successful\n",
    "print(response.json())  # Should contain the prediction result\n"
   ]
  },
  {
   "cell_type": "code",
   "execution_count": 8,
   "id": "d075c2fe-e461-49b3-bfc1-70f07d9ea773",
   "metadata": {},
   "outputs": [
    {
     "ename": "SyntaxError",
     "evalue": "invalid syntax (1991864508.py, line 1)",
     "output_type": "error",
     "traceback": [
      "\u001b[1;36m  Cell \u001b[1;32mIn[8], line 1\u001b[1;36m\u001b[0m\n\u001b[1;33m    dir \"C:/Users/sumith singh/dsp-skyprix/airflow-alpha/raw_data/\"\u001b[0m\n\u001b[1;37m        ^\u001b[0m\n\u001b[1;31mSyntaxError\u001b[0m\u001b[1;31m:\u001b[0m invalid syntax\n"
     ]
    }
   ],
   "source": [
    "\n"
   ]
  },
  {
   "cell_type": "code",
   "execution_count": 11,
   "id": "80b75def-fe7b-4ed0-9cf3-0545c2ea04c6",
   "metadata": {},
   "outputs": [],
   "source": [
    "from fastapi import FastAPI\n",
    "from pydantic import BaseModel\n",
    "from typing import Dict\n",
    "\n",
    "app = FastAPI()\n",
    "\n",
    "class PredictionInput(BaseModel):\n",
    "    airline: str\n",
    "    flight: str\n",
    "    source_city: str\n",
    "    departure_time: str\n",
    "    stops: str\n",
    "    arrival_time: str\n",
    "    destination_city: str\n",
    "    travel_class: str\n",
    "    duration: float\n",
    "    days_left: int\n",
    "    price: int\n",
    "\n",
    "@app.post(\"/predict\")\n",
    "async def predict(input_data: PredictionInput):\n",
    "    # Your prediction logic here\n",
    "    prediction_result = {\"predicted_price\": 5500}  # Example result\n",
    "    return prediction_result\n"
   ]
  },
  {
   "cell_type": "code",
   "execution_count": null,
   "id": "3ccabbf9-e163-417c-bd87-1187791ddbd2",
   "metadata": {},
   "outputs": [],
   "source": []
  },
  {
   "cell_type": "code",
   "execution_count": null,
   "id": "448a5c61-a31a-4338-9564-e90ca5b77b50",
   "metadata": {},
   "outputs": [],
   "source": []
  }
 ],
 "metadata": {
  "kernelspec": {
   "display_name": "Python 3 (ipykernel)",
   "language": "python",
   "name": "python3"
  },
  "language_info": {
   "codemirror_mode": {
    "name": "ipython",
    "version": 3
   },
   "file_extension": ".py",
   "mimetype": "text/x-python",
   "name": "python",
   "nbconvert_exporter": "python",
   "pygments_lexer": "ipython3",
   "version": "3.12.4"
  }
 },
 "nbformat": 4,
 "nbformat_minor": 5
}
