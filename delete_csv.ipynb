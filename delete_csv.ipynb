{
 "cells": [
  {
   "cell_type": "code",
   "execution_count": null,
   "metadata": {},
   "outputs": [],
   "source": [
    "import os\n",
    "import glob\n",
    "import sys\n",
    "sys.path.append('..')\n",
    "\n",
    "def remove_csv_files(folder_path):\n",
    "    csv_files = glob.glob(os.path.join(folder_path, \"*.csv\"))\n",
    "    \n",
    "    for file in csv_files:\n",
    "        os.remove(file)\n",
    "        print(f\"Removed: {file}\")\n",
    "\n",
    "\n",
    "folder_path = './airflow-alpha/raw_data' \n",
    "remove_csv_files(folder_path)\n"
   ]
  }
 ],
 "metadata": {
  "language_info": {
   "name": "python"
  }
 },
 "nbformat": 4,
 "nbformat_minor": 2
}
