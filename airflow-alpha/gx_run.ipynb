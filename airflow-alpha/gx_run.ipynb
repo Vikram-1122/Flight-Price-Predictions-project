{
 "cells": [
  {
   "cell_type": "code",
   "execution_count": 2,
   "id": "23743ed0-ba78-44c8-bbee-6d7119c99681",
   "metadata": {},
   "outputs": [],
   "source": [
    "import great_expectations as gx"
   ]
  },
  {
   "cell_type": "code",
   "execution_count": 3,
   "id": "1f5a6805-c27c-4f7d-b1ec-9c9c31c11aa3",
   "metadata": {},
   "outputs": [],
   "source": [
    "context = gx.get_context()"
   ]
  },
  {
   "cell_type": "code",
   "execution_count": 8,
   "id": "18960be0-d8ed-411a-bff0-51a6f545c819",
   "metadata": {},
   "outputs": [],
   "source": [
    "datasource_name = \"my_new_datasource\"\n",
    "path_to_folder_containing_csv_files = \"C:/Users/sumith singh/dsp-skyprix/airflow-alpha/raw_data\""
   ]
  },
  {
   "cell_type": "code",
   "execution_count": 9,
   "id": "d7f1418f-0dcf-4232-9648-66d090867af3",
   "metadata": {},
   "outputs": [],
   "source": [
    "datasource = context.sources.add_pandas_filesystem(\n",
    "    name=datasource_name, base_directory=path_to_folder_containing_csv_files\n",
    ")"
   ]
  },
  {
   "cell_type": "code",
   "execution_count": 15,
   "id": "d09a1d4e-2aaf-4639-ba10-2044e882c49b",
   "metadata": {},
   "outputs": [],
   "source": [
    "asset_name = \"my_flight_data_asset\"\n",
    "_regex = r\"data_\\d+\\.csv\""
   ]
  },
  {
   "cell_type": "code",
   "execution_count": 16,
   "id": "c975b226-b486-43c1-93be-91af715b2bd5",
   "metadata": {},
   "outputs": [
    {
     "data": {
      "text/plain": [
       "CSVAsset(name='my_flight_data_asset', type='csv', order_by=[], regex=re.compile('data_\\\\d+\\\\.csv'), sep=None, delimiter=None, header='infer', names=None, index_col=None, dtype=None, engine=None, true_values=None, false_values=None, skipinitialspace=False, skiprows=None, skipfooter=0, nrows=None, na_values=None, keep_default_na=True, na_filter=True, verbose=None, skip_blank_lines=True, parse_dates=None, infer_datetime_format=None, keep_date_col=None, date_format=None, dayfirst=False, cache_dates=True, iterator=False, chunksize=None, compression='infer', thousands=None, decimal='.', lineterminator=None, quotechar='\"', quoting=0, doublequote=True, escapechar=None, comment=None, encoding=None, encoding_errors='strict', dialect=None, on_bad_lines='error', delim_whitespace=None, low_memory=True, memory_map=False, float_precision=None, storage_options=None)"
      ]
     },
     "execution_count": 16,
     "metadata": {},
     "output_type": "execute_result"
    }
   ],
   "source": [
    "datasource.add_csv_asset(\n",
    "    name=asset_name, \n",
    "    regex=batching_regex, \n",
    ")"
   ]
  },
  {
   "cell_type": "code",
   "execution_count": 17,
   "id": "072def2a-4b89-4ad6-916e-cf211f8a3e75",
   "metadata": {},
   "outputs": [],
   "source": [
    "my_asset = context.get_datasource(\"my_new_datasource\").get_asset(\"my_flight_data_asset\")"
   ]
  },
  {
   "cell_type": "code",
   "execution_count": 43,
   "id": "272a0acf-e0f6-415f-a702-e8dedc527123",
   "metadata": {},
   "outputs": [],
   "source": [
    "my_batch_request = my_asset.build_batch_request()"
   ]
  },
  {
   "cell_type": "code",
   "execution_count": 21,
   "id": "96674d97-9d44-465d-9092-64bd1ec15842",
   "metadata": {},
   "outputs": [],
   "source": [
    "batches = my_asset.get_batch_list_from_batch_request(my_batch_request)"
   ]
  },
  {
   "cell_type": "code",
   "execution_count": null,
   "id": "99f0829a-f60a-423d-98aa-7b50fff2a337",
   "metadata": {},
   "outputs": [],
   "source": [
    "for batch in batches:\n",
    "    print(batch.batch_spec)"
   ]
  },
  {
   "cell_type": "code",
   "execution_count": 24,
   "id": "4c505601-a2ef-4529-99cf-9b5517a9f0c4",
   "metadata": {},
   "outputs": [
    {
     "data": {
      "text/plain": [
       "{\n",
       "  \"expectation_suite_name\": \"validation_suite\",\n",
       "  \"ge_cloud_id\": null,\n",
       "  \"expectations\": [],\n",
       "  \"data_asset_type\": null,\n",
       "  \"meta\": {\n",
       "    \"great_expectations_version\": \"0.15.49\"\n",
       "  }\n",
       "}"
      ]
     },
     "execution_count": 24,
     "metadata": {},
     "output_type": "execute_result"
    }
   ],
   "source": [
    "context.add_or_update_expectation_suite(\"validation_suite\")\n",
    "# Optional. Run assert \"my_expectation_suite\" in context.list_expectation_suite_names() to veriify the Expectation Suite was created."
   ]
  },
  {
   "cell_type": "code",
   "execution_count": 26,
   "id": "45b09843-d3b3-4db1-ae23-8e15d12346a9",
   "metadata": {},
   "outputs": [
    {
     "name": "stderr",
     "output_type": "stream",
     "text": [
      "Batch objects provided to BatchManager must be formal Great Expectations Batch typed objects.\n",
      "Batch objects provided to BatchManager must be formal Great Expectations Batch typed objects.\n",
      "Batch objects provided to BatchManager must be formal Great Expectations Batch typed objects.\n",
      "Batch objects provided to BatchManager must be formal Great Expectations Batch typed objects.\n",
      "Batch objects provided to BatchManager must be formal Great Expectations Batch typed objects.\n",
      "Batch objects provided to BatchManager must be formal Great Expectations Batch typed objects.\n",
      "Batch objects provided to BatchManager must be formal Great Expectations Batch typed objects.\n",
      "Batch objects provided to BatchManager must be formal Great Expectations Batch typed objects.\n",
      "Batch objects provided to BatchManager must be formal Great Expectations Batch typed objects.\n",
      "Batch objects provided to BatchManager must be formal Great Expectations Batch typed objects.\n",
      "Batch objects provided to BatchManager must be formal Great Expectations Batch typed objects.\n",
      "Batch objects provided to BatchManager must be formal Great Expectations Batch typed objects.\n",
      "Batch objects provided to BatchManager must be formal Great Expectations Batch typed objects.\n",
      "Batch objects provided to BatchManager must be formal Great Expectations Batch typed objects.\n",
      "Batch objects provided to BatchManager must be formal Great Expectations Batch typed objects.\n",
      "Batch objects provided to BatchManager must be formal Great Expectations Batch typed objects.\n",
      "Batch objects provided to BatchManager must be formal Great Expectations Batch typed objects.\n",
      "Batch objects provided to BatchManager must be formal Great Expectations Batch typed objects.\n",
      "Batch objects provided to BatchManager must be formal Great Expectations Batch typed objects.\n",
      "Batch objects provided to BatchManager must be formal Great Expectations Batch typed objects.\n",
      "Batch objects provided to BatchManager must be formal Great Expectations Batch typed objects.\n",
      "Batch objects provided to BatchManager must be formal Great Expectations Batch typed objects.\n",
      "Batch objects provided to BatchManager must be formal Great Expectations Batch typed objects.\n",
      "Batch objects provided to BatchManager must be formal Great Expectations Batch typed objects.\n",
      "Batch objects provided to BatchManager must be formal Great Expectations Batch typed objects.\n",
      "Batch objects provided to BatchManager must be formal Great Expectations Batch typed objects.\n",
      "Batch objects provided to BatchManager must be formal Great Expectations Batch typed objects.\n",
      "Batch objects provided to BatchManager must be formal Great Expectations Batch typed objects.\n",
      "Batch objects provided to BatchManager must be formal Great Expectations Batch typed objects.\n",
      "Batch objects provided to BatchManager must be formal Great Expectations Batch typed objects.\n",
      "Batch objects provided to BatchManager must be formal Great Expectations Batch typed objects.\n",
      "Batch objects provided to BatchManager must be formal Great Expectations Batch typed objects.\n",
      "Batch objects provided to BatchManager must be formal Great Expectations Batch typed objects.\n",
      "Batch objects provided to BatchManager must be formal Great Expectations Batch typed objects.\n",
      "Batch objects provided to BatchManager must be formal Great Expectations Batch typed objects.\n",
      "Batch objects provided to BatchManager must be formal Great Expectations Batch typed objects.\n",
      "Batch objects provided to BatchManager must be formal Great Expectations Batch typed objects.\n",
      "Batch objects provided to BatchManager must be formal Great Expectations Batch typed objects.\n",
      "Batch objects provided to BatchManager must be formal Great Expectations Batch typed objects.\n",
      "Batch objects provided to BatchManager must be formal Great Expectations Batch typed objects.\n",
      "Batch objects provided to BatchManager must be formal Great Expectations Batch typed objects.\n",
      "Batch objects provided to BatchManager must be formal Great Expectations Batch typed objects.\n",
      "Batch objects provided to BatchManager must be formal Great Expectations Batch typed objects.\n",
      "Batch objects provided to BatchManager must be formal Great Expectations Batch typed objects.\n",
      "Batch objects provided to BatchManager must be formal Great Expectations Batch typed objects.\n",
      "Batch objects provided to BatchManager must be formal Great Expectations Batch typed objects.\n",
      "Batch objects provided to BatchManager must be formal Great Expectations Batch typed objects.\n",
      "Batch objects provided to BatchManager must be formal Great Expectations Batch typed objects.\n",
      "Batch objects provided to BatchManager must be formal Great Expectations Batch typed objects.\n",
      "Batch objects provided to BatchManager must be formal Great Expectations Batch typed objects.\n",
      "Batch objects provided to BatchManager must be formal Great Expectations Batch typed objects.\n",
      "Batch objects provided to BatchManager must be formal Great Expectations Batch typed objects.\n",
      "Batch objects provided to BatchManager must be formal Great Expectations Batch typed objects.\n",
      "Batch objects provided to BatchManager must be formal Great Expectations Batch typed objects.\n",
      "Batch objects provided to BatchManager must be formal Great Expectations Batch typed objects.\n",
      "Batch objects provided to BatchManager must be formal Great Expectations Batch typed objects.\n",
      "Batch objects provided to BatchManager must be formal Great Expectations Batch typed objects.\n",
      "Batch objects provided to BatchManager must be formal Great Expectations Batch typed objects.\n",
      "Batch objects provided to BatchManager must be formal Great Expectations Batch typed objects.\n",
      "Batch objects provided to BatchManager must be formal Great Expectations Batch typed objects.\n",
      "Batch objects provided to BatchManager must be formal Great Expectations Batch typed objects.\n",
      "Batch objects provided to BatchManager must be formal Great Expectations Batch typed objects.\n",
      "Batch objects provided to BatchManager must be formal Great Expectations Batch typed objects.\n",
      "Batch objects provided to BatchManager must be formal Great Expectations Batch typed objects.\n",
      "Batch objects provided to BatchManager must be formal Great Expectations Batch typed objects.\n",
      "Batch objects provided to BatchManager must be formal Great Expectations Batch typed objects.\n",
      "Batch objects provided to BatchManager must be formal Great Expectations Batch typed objects.\n",
      "Batch objects provided to BatchManager must be formal Great Expectations Batch typed objects.\n",
      "Batch objects provided to BatchManager must be formal Great Expectations Batch typed objects.\n",
      "Batch objects provided to BatchManager must be formal Great Expectations Batch typed objects.\n",
      "Batch objects provided to BatchManager must be formal Great Expectations Batch typed objects.\n",
      "Batch objects provided to BatchManager must be formal Great Expectations Batch typed objects.\n",
      "Batch objects provided to BatchManager must be formal Great Expectations Batch typed objects.\n",
      "Batch objects provided to BatchManager must be formal Great Expectations Batch typed objects.\n",
      "Batch objects provided to BatchManager must be formal Great Expectations Batch typed objects.\n",
      "Batch objects provided to BatchManager must be formal Great Expectations Batch typed objects.\n",
      "Batch objects provided to BatchManager must be formal Great Expectations Batch typed objects.\n",
      "Batch objects provided to BatchManager must be formal Great Expectations Batch typed objects.\n",
      "Batch objects provided to BatchManager must be formal Great Expectations Batch typed objects.\n",
      "Batch objects provided to BatchManager must be formal Great Expectations Batch typed objects.\n",
      "Batch objects provided to BatchManager must be formal Great Expectations Batch typed objects.\n",
      "Batch objects provided to BatchManager must be formal Great Expectations Batch typed objects.\n"
     ]
    },
    {
     "data": {
      "application/vnd.jupyter.widget-view+json": {
       "model_id": "b379c7bcb0474f2f991edcdaa533d66a",
       "version_major": 2,
       "version_minor": 0
      },
      "text/plain": [
       "Calculating Metrics:   0%|          | 0/1 [00:00<?, ?it/s]"
      ]
     },
     "metadata": {},
     "output_type": "display_data"
    },
    {
     "data": {
      "text/html": [
       "<div>\n",
       "<style scoped>\n",
       "    .dataframe tbody tr th:only-of-type {\n",
       "        vertical-align: middle;\n",
       "    }\n",
       "\n",
       "    .dataframe tbody tr th {\n",
       "        vertical-align: top;\n",
       "    }\n",
       "\n",
       "    .dataframe thead th {\n",
       "        text-align: right;\n",
       "    }\n",
       "</style>\n",
       "<table border=\"1\" class=\"dataframe\">\n",
       "  <thead>\n",
       "    <tr style=\"text-align: right;\">\n",
       "      <th></th>\n",
       "      <th>Unnamed: 0</th>\n",
       "      <th>airline</th>\n",
       "      <th>flight</th>\n",
       "      <th>source_city</th>\n",
       "      <th>departure_time</th>\n",
       "      <th>stops</th>\n",
       "      <th>arrival_time</th>\n",
       "      <th>destination_city</th>\n",
       "      <th>travel_class</th>\n",
       "      <th>duration</th>\n",
       "      <th>days_left</th>\n",
       "      <th>price</th>\n",
       "    </tr>\n",
       "  </thead>\n",
       "  <tbody>\n",
       "    <tr>\n",
       "      <th>0</th>\n",
       "      <td>294151</td>\n",
       "      <td>Vistara</td>\n",
       "      <td>UK-828</td>\n",
       "      <td>Chennai</td>\n",
       "      <td>Early_Morning</td>\n",
       "      <td>one</td>\n",
       "      <td>Morning</td>\n",
       "      <td>Bangalore</td>\n",
       "      <td>Business</td>\n",
       "      <td>25.83</td>\n",
       "      <td>16</td>\n",
       "      <td>44144</td>\n",
       "    </tr>\n",
       "    <tr>\n",
       "      <th>1</th>\n",
       "      <td>294152</td>\n",
       "      <td>Vistara</td>\n",
       "      <td>UK-824</td>\n",
       "      <td>Chennai</td>\n",
       "      <td>Night</td>\n",
       "      <td>one</td>\n",
       "      <td>Night</td>\n",
       "      <td>Bangalore</td>\n",
       "      <td>Business</td>\n",
       "      <td>26.33</td>\n",
       "      <td>16</td>\n",
       "      <td>44144</td>\n",
       "    </tr>\n",
       "    <tr>\n",
       "      <th>2</th>\n",
       "      <td>294153</td>\n",
       "      <td>Air_India</td>\n",
       "      <td>AI-429</td>\n",
       "      <td>Chennai</td>\n",
       "      <td>Afternoon</td>\n",
       "      <td>two_or_more</td>\n",
       "      <td>Evening</td>\n",
       "      <td>Bangalore</td>\n",
       "      <td>Business</td>\n",
       "      <td>29.17</td>\n",
       "      <td>16</td>\n",
       "      <td>51928</td>\n",
       "    </tr>\n",
       "    <tr>\n",
       "      <th>3</th>\n",
       "      <td>294154</td>\n",
       "      <td>Air_India</td>\n",
       "      <td>AI-672</td>\n",
       "      <td>Chennai</td>\n",
       "      <td>Evening</td>\n",
       "      <td>one</td>\n",
       "      <td>Afternoon</td>\n",
       "      <td>Bangalore</td>\n",
       "      <td>Business</td>\n",
       "      <td>22.25</td>\n",
       "      <td>16</td>\n",
       "      <td>52139</td>\n",
       "    </tr>\n",
       "    <tr>\n",
       "      <th>4</th>\n",
       "      <td>294155</td>\n",
       "      <td>Air_India</td>\n",
       "      <td>AI-569</td>\n",
       "      <td>Chennai</td>\n",
       "      <td>Early_Morning</td>\n",
       "      <td>one</td>\n",
       "      <td>Afternoon</td>\n",
       "      <td>Bangalore</td>\n",
       "      <td>Business</td>\n",
       "      <td>32.00</td>\n",
       "      <td>16</td>\n",
       "      <td>52139</td>\n",
       "    </tr>\n",
       "  </tbody>\n",
       "</table>\n",
       "</div>"
      ],
      "text/plain": [
       "   Unnamed: 0    airline  flight source_city departure_time        stops  \\\n",
       "0      294151    Vistara  UK-828     Chennai  Early_Morning          one   \n",
       "1      294152    Vistara  UK-824     Chennai          Night          one   \n",
       "2      294153  Air_India  AI-429     Chennai      Afternoon  two_or_more   \n",
       "3      294154  Air_India  AI-672     Chennai        Evening          one   \n",
       "4      294155  Air_India  AI-569     Chennai  Early_Morning          one   \n",
       "\n",
       "  arrival_time destination_city travel_class  duration  days_left  price  \n",
       "0      Morning        Bangalore     Business     25.83         16  44144  \n",
       "1        Night        Bangalore     Business     26.33         16  44144  \n",
       "2      Evening        Bangalore     Business     29.17         16  51928  \n",
       "3    Afternoon        Bangalore     Business     22.25         16  52139  \n",
       "4    Afternoon        Bangalore     Business     32.00         16  52139  "
      ]
     },
     "execution_count": 26,
     "metadata": {},
     "output_type": "execute_result"
    }
   ],
   "source": [
    "validator = context.get_validator(\n",
    "    batch_request=my_batch_request,\n",
    "    expectation_suite_name=\"validation_suite\",\n",
    ")\n",
    "validator.head()"
   ]
  },
  {
   "cell_type": "code",
   "execution_count": 27,
   "id": "128cc255-22fa-4dbe-a52a-2e6f632fe5cd",
   "metadata": {},
   "outputs": [
    {
     "data": {
      "application/vnd.jupyter.widget-view+json": {
       "model_id": "f57d50a70b794564b760c9c498500eb4",
       "version_major": 2,
       "version_minor": 0
      },
      "text/plain": [
       "Calculating Metrics:   0%|          | 0/6 [00:00<?, ?it/s]"
      ]
     },
     "metadata": {},
     "output_type": "display_data"
    },
    {
     "data": {
      "text/plain": [
       "{\n",
       "  \"success\": true,\n",
       "  \"result\": {\n",
       "    \"element_count\": 3001,\n",
       "    \"unexpected_count\": 0,\n",
       "    \"unexpected_percent\": 0.0,\n",
       "    \"partial_unexpected_list\": []\n",
       "  },\n",
       "  \"meta\": {},\n",
       "  \"exception_info\": {\n",
       "    \"raised_exception\": false,\n",
       "    \"exception_traceback\": null,\n",
       "    \"exception_message\": null\n",
       "  }\n",
       "}"
      ]
     },
     "execution_count": 27,
     "metadata": {},
     "output_type": "execute_result"
    }
   ],
   "source": [
    "validator.expect_column_values_to_not_be_null(column=\"price\")"
   ]
  },
  {
   "cell_type": "code",
   "execution_count": 28,
   "id": "3eee5adb-982f-41f6-a656-33ae35dc6d36",
   "metadata": {},
   "outputs": [
    {
     "data": {
      "application/vnd.jupyter.widget-view+json": {
       "model_id": "eccbd2668d264dfdaa52ea093c587846",
       "version_major": 2,
       "version_minor": 0
      },
      "text/plain": [
       "Calculating Metrics:   0%|          | 0/6 [00:00<?, ?it/s]"
      ]
     },
     "metadata": {},
     "output_type": "display_data"
    },
    {
     "data": {
      "text/plain": [
       "{\n",
       "  \"success\": true,\n",
       "  \"result\": {\n",
       "    \"element_count\": 3001,\n",
       "    \"unexpected_count\": 0,\n",
       "    \"unexpected_percent\": 0.0,\n",
       "    \"partial_unexpected_list\": []\n",
       "  },\n",
       "  \"meta\": {},\n",
       "  \"exception_info\": {\n",
       "    \"raised_exception\": false,\n",
       "    \"exception_traceback\": null,\n",
       "    \"exception_message\": null\n",
       "  }\n",
       "}"
      ]
     },
     "execution_count": 28,
     "metadata": {},
     "output_type": "execute_result"
    }
   ],
   "source": [
    "validator.expect_column_values_to_not_be_null(column=\"travel_class\")"
   ]
  },
  {
   "cell_type": "code",
   "execution_count": 47,
   "id": "935981a3-46f2-457d-aa51-5f24363cd2c4",
   "metadata": {},
   "outputs": [
    {
     "name": "stderr",
     "output_type": "stream",
     "text": [
      "Instantiating class from config without an explicit class_name is dangerous. Consider adding an explicit class_name for my_checkpoint\n"
     ]
    },
    {
     "ename": "KeyError",
     "evalue": "\"Neither config : {'name': 'my_checkpoint', 'validations': [{'batch_request': {'datasource_name': 'my_new_datasource', 'data_asset_name': 'my_flight_data_asset'}, 'expectation_suite_name': 'validation_suite'}]} nor config_defaults : {} contains a class_name key.\"",
     "output_type": "error",
     "traceback": [
      "\u001b[1;31m---------------------------------------------------------------------------\u001b[0m",
      "\u001b[1;31mKeyError\u001b[0m                                  Traceback (most recent call last)",
      "File \u001b[1;32m~\\Miniconda3\\envs\\skyprix\\lib\\site-packages\\great_expectations\\data_context\\util.py:62\u001b[0m, in \u001b[0;36minstantiate_class_from_config\u001b[1;34m(config, runtime_environment, config_defaults)\u001b[0m\n\u001b[0;32m     61\u001b[0m \u001b[38;5;28;01mtry\u001b[39;00m:\n\u001b[1;32m---> 62\u001b[0m     class_name \u001b[38;5;241m=\u001b[39m \u001b[43mconfig_defaults\u001b[49m\u001b[38;5;241;43m.\u001b[39;49m\u001b[43mpop\u001b[49m\u001b[43m(\u001b[49m\u001b[38;5;124;43m\"\u001b[39;49m\u001b[38;5;124;43mclass_name\u001b[39;49m\u001b[38;5;124;43m\"\u001b[39;49m\u001b[43m)\u001b[49m\n\u001b[0;32m     63\u001b[0m \u001b[38;5;28;01mexcept\u001b[39;00m \u001b[38;5;167;01mKeyError\u001b[39;00m:\n",
      "\u001b[1;31mKeyError\u001b[0m: 'class_name'",
      "\nDuring handling of the above exception, another exception occurred:\n",
      "\u001b[1;31mKeyError\u001b[0m                                  Traceback (most recent call last)",
      "Cell \u001b[1;32mIn[47], line 1\u001b[0m\n\u001b[1;32m----> 1\u001b[0m checkpoint \u001b[38;5;241m=\u001b[39m \u001b[43mcontext\u001b[49m\u001b[38;5;241;43m.\u001b[39;49m\u001b[43madd_or_update_checkpoint\u001b[49m\u001b[43m(\u001b[49m\n\u001b[0;32m      2\u001b[0m \u001b[43m    \u001b[49m\u001b[43mname\u001b[49m\u001b[38;5;241;43m=\u001b[39;49m\u001b[38;5;124;43m\"\u001b[39;49m\u001b[38;5;124;43mmy_checkpoint\u001b[39;49m\u001b[38;5;124;43m\"\u001b[39;49m\u001b[43m,\u001b[49m\n\u001b[0;32m      3\u001b[0m \u001b[43m    \u001b[49m\u001b[43mvalidations\u001b[49m\u001b[38;5;241;43m=\u001b[39;49m\u001b[43m[\u001b[49m\n\u001b[0;32m      4\u001b[0m \u001b[43m        \u001b[49m\u001b[43m{\u001b[49m\n\u001b[0;32m      5\u001b[0m \u001b[43m            \u001b[49m\u001b[38;5;124;43m\"\u001b[39;49m\u001b[38;5;124;43mbatch_request\u001b[39;49m\u001b[38;5;124;43m\"\u001b[39;49m\u001b[43m:\u001b[49m\u001b[43m \u001b[49m\u001b[43mmy_batch_request\u001b[49m\u001b[43m,\u001b[49m\n\u001b[0;32m      6\u001b[0m \u001b[43m            \u001b[49m\u001b[38;5;124;43m\"\u001b[39;49m\u001b[38;5;124;43mexpectation_suite_name\u001b[39;49m\u001b[38;5;124;43m\"\u001b[39;49m\u001b[43m:\u001b[49m\u001b[43m \u001b[49m\u001b[38;5;124;43m\"\u001b[39;49m\u001b[38;5;124;43mvalidation_suite\u001b[39;49m\u001b[38;5;124;43m\"\u001b[39;49m\u001b[43m,\u001b[49m\n\u001b[0;32m      7\u001b[0m \u001b[43m        \u001b[49m\u001b[43m}\u001b[49m\u001b[43m,\u001b[49m\n\u001b[0;32m      8\u001b[0m \u001b[43m    \u001b[49m\u001b[43m]\u001b[49m\n\u001b[0;32m      9\u001b[0m \u001b[43m)\u001b[49m\n\u001b[0;32m     10\u001b[0m checkpoint_result \u001b[38;5;241m=\u001b[39m checkpoint\u001b[38;5;241m.\u001b[39mrun(batch_request\u001b[38;5;241m=\u001b[39mmy_batch_request, expectation_suite_name\u001b[38;5;241m=\u001b[39m\u001b[38;5;124m\"\u001b[39m\u001b[38;5;124mvalidation_suite\u001b[39m\u001b[38;5;124m\"\u001b[39m)\n\u001b[0;32m     11\u001b[0m \u001b[38;5;28mprint\u001b[39m(checkpoint_result)\n",
      "File \u001b[1;32m~\\Miniconda3\\envs\\skyprix\\lib\\site-packages\\great_expectations\\data_context\\data_context\\abstract_data_context.py:1908\u001b[0m, in \u001b[0;36mAbstractDataContext.add_or_update_checkpoint\u001b[1;34m(self, name, id, config_version, template_name, module_name, class_name, run_name_template, expectation_suite_name, batch_request, action_list, evaluation_parameters, runtime_configuration, validations, profilers, site_names, slack_webhook, notify_on, notify_with, expectation_suite_id, default_validation_id, checkpoint)\u001b[0m\n\u001b[0;32m   1853\u001b[0m \u001b[38;5;129m@public_api\u001b[39m\n\u001b[0;32m   1854\u001b[0m \u001b[38;5;129m@new_method_or_class\u001b[39m(version\u001b[38;5;241m=\u001b[39m\u001b[38;5;124m\"\u001b[39m\u001b[38;5;124m0.15.48\u001b[39m\u001b[38;5;124m\"\u001b[39m)\n\u001b[0;32m   1855\u001b[0m \u001b[38;5;28;01mdef\u001b[39;00m \u001b[38;5;21madd_or_update_checkpoint\u001b[39m(  \u001b[38;5;66;03m# noqa: C901 - Complexity 23\u001b[39;00m\n\u001b[1;32m   (...)\u001b[0m\n\u001b[0;32m   1878\u001b[0m     checkpoint: Checkpoint \u001b[38;5;241m|\u001b[39m \u001b[38;5;28;01mNone\u001b[39;00m \u001b[38;5;241m=\u001b[39m \u001b[38;5;28;01mNone\u001b[39;00m,\n\u001b[0;32m   1879\u001b[0m ) \u001b[38;5;241m-\u001b[39m\u001b[38;5;241m>\u001b[39m Checkpoint:\n\u001b[0;32m   1880\u001b[0m \u001b[38;5;250m    \u001b[39m\u001b[38;5;124;03m\"\"\"Add a new Checkpoint or update an existing one on the context depending on whether it already exists or not.\u001b[39;00m\n\u001b[0;32m   1881\u001b[0m \n\u001b[0;32m   1882\u001b[0m \u001b[38;5;124;03m    Args:\u001b[39;00m\n\u001b[1;32m   (...)\u001b[0m\n\u001b[0;32m   1906\u001b[0m \u001b[38;5;124;03m        A new Checkpoint or an updated once (depending on whether or not it existed before this method call).\u001b[39;00m\n\u001b[0;32m   1907\u001b[0m \u001b[38;5;124;03m    \"\"\"\u001b[39;00m\n\u001b[1;32m-> 1908\u001b[0m     checkpoint \u001b[38;5;241m=\u001b[39m \u001b[38;5;28;43mself\u001b[39;49m\u001b[38;5;241;43m.\u001b[39;49m\u001b[43m_resolve_add_checkpoint_args\u001b[49m\u001b[43m(\u001b[49m\n\u001b[0;32m   1909\u001b[0m \u001b[43m        \u001b[49m\u001b[43mname\u001b[49m\u001b[38;5;241;43m=\u001b[39;49m\u001b[43mname\u001b[49m\u001b[43m,\u001b[49m\n\u001b[0;32m   1910\u001b[0m \u001b[43m        \u001b[49m\u001b[38;5;28;43mid\u001b[39;49m\u001b[38;5;241;43m=\u001b[39;49m\u001b[38;5;28;43mid\u001b[39;49m\u001b[43m,\u001b[49m\n\u001b[0;32m   1911\u001b[0m \u001b[43m        \u001b[49m\u001b[43mconfig_version\u001b[49m\u001b[38;5;241;43m=\u001b[39;49m\u001b[43mconfig_version\u001b[49m\u001b[43m,\u001b[49m\n\u001b[0;32m   1912\u001b[0m \u001b[43m        \u001b[49m\u001b[43mtemplate_name\u001b[49m\u001b[38;5;241;43m=\u001b[39;49m\u001b[43mtemplate_name\u001b[49m\u001b[43m,\u001b[49m\n\u001b[0;32m   1913\u001b[0m \u001b[43m        \u001b[49m\u001b[43mmodule_name\u001b[49m\u001b[38;5;241;43m=\u001b[39;49m\u001b[43mmodule_name\u001b[49m\u001b[43m,\u001b[49m\n\u001b[0;32m   1914\u001b[0m \u001b[43m        \u001b[49m\u001b[43mclass_name\u001b[49m\u001b[38;5;241;43m=\u001b[39;49m\u001b[43mclass_name\u001b[49m\u001b[43m,\u001b[49m\n\u001b[0;32m   1915\u001b[0m \u001b[43m        \u001b[49m\u001b[43mrun_name_template\u001b[49m\u001b[38;5;241;43m=\u001b[39;49m\u001b[43mrun_name_template\u001b[49m\u001b[43m,\u001b[49m\n\u001b[0;32m   1916\u001b[0m \u001b[43m        \u001b[49m\u001b[43mexpectation_suite_name\u001b[49m\u001b[38;5;241;43m=\u001b[39;49m\u001b[43mexpectation_suite_name\u001b[49m\u001b[43m,\u001b[49m\n\u001b[0;32m   1917\u001b[0m \u001b[43m        \u001b[49m\u001b[43mbatch_request\u001b[49m\u001b[38;5;241;43m=\u001b[39;49m\u001b[43mbatch_request\u001b[49m\u001b[43m,\u001b[49m\n\u001b[0;32m   1918\u001b[0m \u001b[43m        \u001b[49m\u001b[43maction_list\u001b[49m\u001b[38;5;241;43m=\u001b[39;49m\u001b[43maction_list\u001b[49m\u001b[43m,\u001b[49m\n\u001b[0;32m   1919\u001b[0m \u001b[43m        \u001b[49m\u001b[43mevaluation_parameters\u001b[49m\u001b[38;5;241;43m=\u001b[39;49m\u001b[43mevaluation_parameters\u001b[49m\u001b[43m,\u001b[49m\n\u001b[0;32m   1920\u001b[0m \u001b[43m        \u001b[49m\u001b[43mruntime_configuration\u001b[49m\u001b[38;5;241;43m=\u001b[39;49m\u001b[43mruntime_configuration\u001b[49m\u001b[43m,\u001b[49m\n\u001b[0;32m   1921\u001b[0m \u001b[43m        \u001b[49m\u001b[43mvalidations\u001b[49m\u001b[38;5;241;43m=\u001b[39;49m\u001b[43mvalidations\u001b[49m\u001b[43m,\u001b[49m\n\u001b[0;32m   1922\u001b[0m \u001b[43m        \u001b[49m\u001b[43mprofilers\u001b[49m\u001b[38;5;241;43m=\u001b[39;49m\u001b[43mprofilers\u001b[49m\u001b[43m,\u001b[49m\n\u001b[0;32m   1923\u001b[0m \u001b[43m        \u001b[49m\u001b[43msite_names\u001b[49m\u001b[38;5;241;43m=\u001b[39;49m\u001b[43msite_names\u001b[49m\u001b[43m,\u001b[49m\n\u001b[0;32m   1924\u001b[0m \u001b[43m        \u001b[49m\u001b[43mslack_webhook\u001b[49m\u001b[38;5;241;43m=\u001b[39;49m\u001b[43mslack_webhook\u001b[49m\u001b[43m,\u001b[49m\n\u001b[0;32m   1925\u001b[0m \u001b[43m        \u001b[49m\u001b[43mnotify_on\u001b[49m\u001b[38;5;241;43m=\u001b[39;49m\u001b[43mnotify_on\u001b[49m\u001b[43m,\u001b[49m\n\u001b[0;32m   1926\u001b[0m \u001b[43m        \u001b[49m\u001b[43mnotify_with\u001b[49m\u001b[38;5;241;43m=\u001b[39;49m\u001b[43mnotify_with\u001b[49m\u001b[43m,\u001b[49m\n\u001b[0;32m   1927\u001b[0m \u001b[43m        \u001b[49m\u001b[43mexpectation_suite_id\u001b[49m\u001b[38;5;241;43m=\u001b[39;49m\u001b[43mexpectation_suite_id\u001b[49m\u001b[43m,\u001b[49m\n\u001b[0;32m   1928\u001b[0m \u001b[43m        \u001b[49m\u001b[43mdefault_validation_id\u001b[49m\u001b[38;5;241;43m=\u001b[39;49m\u001b[43mdefault_validation_id\u001b[49m\u001b[43m,\u001b[49m\n\u001b[0;32m   1929\u001b[0m \u001b[43m        \u001b[49m\u001b[43mcheckpoint\u001b[49m\u001b[38;5;241;43m=\u001b[39;49m\u001b[43mcheckpoint\u001b[49m\u001b[43m,\u001b[49m\n\u001b[0;32m   1930\u001b[0m \u001b[43m    \u001b[49m\u001b[43m)\u001b[49m\n\u001b[0;32m   1932\u001b[0m     \u001b[38;5;28;01mreturn\u001b[39;00m \u001b[38;5;28mself\u001b[39m\u001b[38;5;241m.\u001b[39mcheckpoint_store\u001b[38;5;241m.\u001b[39madd_or_update_checkpoint(checkpoint)\n",
      "File \u001b[1;32m~\\Miniconda3\\envs\\skyprix\\lib\\site-packages\\great_expectations\\data_context\\data_context\\abstract_data_context.py:1971\u001b[0m, in \u001b[0;36mAbstractDataContext._resolve_add_checkpoint_args\u001b[1;34m(self, name, id, config_version, template_name, module_name, class_name, run_name_template, expectation_suite_name, batch_request, action_list, evaluation_parameters, runtime_configuration, validations, profilers, validation_operator_name, batches, site_names, slack_webhook, notify_on, notify_with, expectation_suite_id, default_validation_id, checkpoint)\u001b[0m\n\u001b[0;32m   1967\u001b[0m \u001b[38;5;28;01mif\u001b[39;00m \u001b[38;5;129;01mnot\u001b[39;00m checkpoint:\n\u001b[0;32m   1968\u001b[0m     \u001b[38;5;28;01massert\u001b[39;00m (\n\u001b[0;32m   1969\u001b[0m         name\n\u001b[0;32m   1970\u001b[0m     ), \u001b[38;5;124m\"\u001b[39m\u001b[38;5;124mGuaranteed to have a non-null name if constructing Checkpoint with individual args\u001b[39m\u001b[38;5;124m\"\u001b[39m\n\u001b[1;32m-> 1971\u001b[0m     checkpoint \u001b[38;5;241m=\u001b[39m \u001b[43mCheckpoint\u001b[49m\u001b[38;5;241;43m.\u001b[39;49m\u001b[43mconstruct_from_config_args\u001b[49m\u001b[43m(\u001b[49m\n\u001b[0;32m   1972\u001b[0m \u001b[43m        \u001b[49m\u001b[43mdata_context\u001b[49m\u001b[38;5;241;43m=\u001b[39;49m\u001b[38;5;28;43mself\u001b[39;49m\u001b[43m,\u001b[49m\n\u001b[0;32m   1973\u001b[0m \u001b[43m        \u001b[49m\u001b[43mcheckpoint_store_name\u001b[49m\u001b[38;5;241;43m=\u001b[39;49m\u001b[38;5;28;43mself\u001b[39;49m\u001b[38;5;241;43m.\u001b[39;49m\u001b[43mcheckpoint_store_name\u001b[49m\u001b[43m,\u001b[49m\u001b[43m  \u001b[49m\u001b[38;5;66;43;03m# type: ignore[arg-type]\u001b[39;49;00m\n\u001b[0;32m   1974\u001b[0m \u001b[43m        \u001b[49m\u001b[43mname\u001b[49m\u001b[38;5;241;43m=\u001b[39;49m\u001b[43mname\u001b[49m\u001b[43m,\u001b[49m\n\u001b[0;32m   1975\u001b[0m \u001b[43m        \u001b[49m\u001b[43mconfig_version\u001b[49m\u001b[38;5;241;43m=\u001b[39;49m\u001b[43mconfig_version\u001b[49m\u001b[43m,\u001b[49m\n\u001b[0;32m   1976\u001b[0m \u001b[43m        \u001b[49m\u001b[43mtemplate_name\u001b[49m\u001b[38;5;241;43m=\u001b[39;49m\u001b[43mtemplate_name\u001b[49m\u001b[43m,\u001b[49m\n\u001b[0;32m   1977\u001b[0m \u001b[43m        \u001b[49m\u001b[43mmodule_name\u001b[49m\u001b[38;5;241;43m=\u001b[39;49m\u001b[43mmodule_name\u001b[49m\u001b[43m,\u001b[49m\n\u001b[0;32m   1978\u001b[0m \u001b[43m        \u001b[49m\u001b[43mclass_name\u001b[49m\u001b[38;5;241;43m=\u001b[39;49m\u001b[43mclass_name\u001b[49m\u001b[43m,\u001b[49m\n\u001b[0;32m   1979\u001b[0m \u001b[43m        \u001b[49m\u001b[43mrun_name_template\u001b[49m\u001b[38;5;241;43m=\u001b[39;49m\u001b[43mrun_name_template\u001b[49m\u001b[43m,\u001b[49m\n\u001b[0;32m   1980\u001b[0m \u001b[43m        \u001b[49m\u001b[43mexpectation_suite_name\u001b[49m\u001b[38;5;241;43m=\u001b[39;49m\u001b[43mexpectation_suite_name\u001b[49m\u001b[43m,\u001b[49m\n\u001b[0;32m   1981\u001b[0m \u001b[43m        \u001b[49m\u001b[43mbatch_request\u001b[49m\u001b[38;5;241;43m=\u001b[39;49m\u001b[43mbatch_request\u001b[49m\u001b[43m,\u001b[49m\n\u001b[0;32m   1982\u001b[0m \u001b[43m        \u001b[49m\u001b[43maction_list\u001b[49m\u001b[38;5;241;43m=\u001b[39;49m\u001b[43maction_list\u001b[49m\u001b[43m,\u001b[49m\n\u001b[0;32m   1983\u001b[0m \u001b[43m        \u001b[49m\u001b[43mevaluation_parameters\u001b[49m\u001b[38;5;241;43m=\u001b[39;49m\u001b[43mevaluation_parameters\u001b[49m\u001b[43m,\u001b[49m\n\u001b[0;32m   1984\u001b[0m \u001b[43m        \u001b[49m\u001b[43mruntime_configuration\u001b[49m\u001b[38;5;241;43m=\u001b[39;49m\u001b[43mruntime_configuration\u001b[49m\u001b[43m,\u001b[49m\n\u001b[0;32m   1985\u001b[0m \u001b[43m        \u001b[49m\u001b[43mvalidations\u001b[49m\u001b[38;5;241;43m=\u001b[39;49m\u001b[43mvalidations\u001b[49m\u001b[43m,\u001b[49m\n\u001b[0;32m   1986\u001b[0m \u001b[43m        \u001b[49m\u001b[43mprofilers\u001b[49m\u001b[38;5;241;43m=\u001b[39;49m\u001b[43mprofilers\u001b[49m\u001b[43m,\u001b[49m\n\u001b[0;32m   1987\u001b[0m \u001b[43m        \u001b[49m\u001b[43mvalidation_operator_name\u001b[49m\u001b[38;5;241;43m=\u001b[39;49m\u001b[43mvalidation_operator_name\u001b[49m\u001b[43m,\u001b[49m\n\u001b[0;32m   1988\u001b[0m \u001b[43m        \u001b[49m\u001b[43mbatches\u001b[49m\u001b[38;5;241;43m=\u001b[39;49m\u001b[43mbatches\u001b[49m\u001b[43m,\u001b[49m\n\u001b[0;32m   1989\u001b[0m \u001b[43m        \u001b[49m\u001b[43msite_names\u001b[49m\u001b[38;5;241;43m=\u001b[39;49m\u001b[43msite_names\u001b[49m\u001b[43m,\u001b[49m\n\u001b[0;32m   1990\u001b[0m \u001b[43m        \u001b[49m\u001b[43mslack_webhook\u001b[49m\u001b[38;5;241;43m=\u001b[39;49m\u001b[43mslack_webhook\u001b[49m\u001b[43m,\u001b[49m\n\u001b[0;32m   1991\u001b[0m \u001b[43m        \u001b[49m\u001b[43mnotify_on\u001b[49m\u001b[38;5;241;43m=\u001b[39;49m\u001b[43mnotify_on\u001b[49m\u001b[43m,\u001b[49m\n\u001b[0;32m   1992\u001b[0m \u001b[43m        \u001b[49m\u001b[43mnotify_with\u001b[49m\u001b[38;5;241;43m=\u001b[39;49m\u001b[43mnotify_with\u001b[49m\u001b[43m,\u001b[49m\n\u001b[0;32m   1993\u001b[0m \u001b[43m        \u001b[49m\u001b[43mge_cloud_id\u001b[49m\u001b[38;5;241;43m=\u001b[39;49m\u001b[38;5;28;43mid\u001b[39;49m\u001b[43m,\u001b[49m\n\u001b[0;32m   1994\u001b[0m \u001b[43m        \u001b[49m\u001b[43mexpectation_suite_ge_cloud_id\u001b[49m\u001b[38;5;241;43m=\u001b[39;49m\u001b[43mexpectation_suite_id\u001b[49m\u001b[43m,\u001b[49m\n\u001b[0;32m   1995\u001b[0m \u001b[43m        \u001b[49m\u001b[43mdefault_validation_id\u001b[49m\u001b[38;5;241;43m=\u001b[39;49m\u001b[43mdefault_validation_id\u001b[49m\u001b[43m,\u001b[49m\n\u001b[0;32m   1996\u001b[0m \u001b[43m    \u001b[49m\u001b[43m)\u001b[49m\n\u001b[0;32m   1998\u001b[0m \u001b[38;5;28;01mreturn\u001b[39;00m checkpoint\n",
      "File \u001b[1;32m~\\Miniconda3\\envs\\skyprix\\lib\\site-packages\\great_expectations\\checkpoint\\checkpoint.py:890\u001b[0m, in \u001b[0;36mCheckpoint.construct_from_config_args\u001b[1;34m(data_context, checkpoint_store_name, name, config_version, template_name, module_name, class_name, run_name_template, expectation_suite_name, batch_request, action_list, evaluation_parameters, runtime_configuration, validations, profilers, validation_operator_name, batches, site_names, slack_webhook, notify_on, notify_with, ge_cloud_id, expectation_suite_ge_cloud_id, default_validation_id)\u001b[0m\n\u001b[0;32m    858\u001b[0m checkpoint_config \u001b[38;5;241m=\u001b[39m {\n\u001b[0;32m    859\u001b[0m     \u001b[38;5;124m\"\u001b[39m\u001b[38;5;124mname\u001b[39m\u001b[38;5;124m\"\u001b[39m: name,\n\u001b[0;32m    860\u001b[0m     \u001b[38;5;124m\"\u001b[39m\u001b[38;5;124mconfig_version\u001b[39m\u001b[38;5;124m\"\u001b[39m: config_version,\n\u001b[1;32m   (...)\u001b[0m\n\u001b[0;32m    882\u001b[0m     \u001b[38;5;124m\"\u001b[39m\u001b[38;5;124mdefault_validation_id\u001b[39m\u001b[38;5;124m\"\u001b[39m: default_validation_id,\n\u001b[0;32m    883\u001b[0m }\n\u001b[0;32m    885\u001b[0m checkpoint_config \u001b[38;5;241m=\u001b[39m deep_filter_properties_iterable(\n\u001b[0;32m    886\u001b[0m     properties\u001b[38;5;241m=\u001b[39mcheckpoint_config,\n\u001b[0;32m    887\u001b[0m     clean_falsy\u001b[38;5;241m=\u001b[39m\u001b[38;5;28;01mTrue\u001b[39;00m,\n\u001b[0;32m    888\u001b[0m )\n\u001b[1;32m--> 890\u001b[0m new_checkpoint: Checkpoint \u001b[38;5;241m=\u001b[39m \u001b[43minstantiate_class_from_config\u001b[49m\u001b[43m(\u001b[49m\n\u001b[0;32m    891\u001b[0m \u001b[43m    \u001b[49m\u001b[43mconfig\u001b[49m\u001b[38;5;241;43m=\u001b[39;49m\u001b[43mcheckpoint_config\u001b[49m\u001b[43m,\u001b[49m\n\u001b[0;32m    892\u001b[0m \u001b[43m    \u001b[49m\u001b[43mruntime_environment\u001b[49m\u001b[38;5;241;43m=\u001b[39;49m\u001b[43m{\u001b[49m\n\u001b[0;32m    893\u001b[0m \u001b[43m        \u001b[49m\u001b[38;5;124;43m\"\u001b[39;49m\u001b[38;5;124;43mdata_context\u001b[39;49m\u001b[38;5;124;43m\"\u001b[39;49m\u001b[43m:\u001b[49m\u001b[43m \u001b[49m\u001b[43mdata_context\u001b[49m\u001b[43m,\u001b[49m\n\u001b[0;32m    894\u001b[0m \u001b[43m    \u001b[49m\u001b[43m}\u001b[49m\u001b[43m,\u001b[49m\n\u001b[0;32m    895\u001b[0m \u001b[43m    \u001b[49m\u001b[43mconfig_defaults\u001b[49m\u001b[38;5;241;43m=\u001b[39;49m\u001b[43m{\u001b[49m\n\u001b[0;32m    896\u001b[0m \u001b[43m        \u001b[49m\u001b[38;5;124;43m\"\u001b[39;49m\u001b[38;5;124;43mmodule_name\u001b[39;49m\u001b[38;5;124;43m\"\u001b[39;49m\u001b[43m:\u001b[49m\u001b[43m \u001b[49m\u001b[38;5;124;43m\"\u001b[39;49m\u001b[38;5;124;43mgreat_expectations.checkpoint\u001b[39;49m\u001b[38;5;124;43m\"\u001b[39;49m\u001b[43m,\u001b[49m\n\u001b[0;32m    897\u001b[0m \u001b[43m    \u001b[49m\u001b[43m}\u001b[49m\u001b[43m,\u001b[49m\n\u001b[0;32m    898\u001b[0m \u001b[43m\u001b[49m\u001b[43m)\u001b[49m\n\u001b[0;32m    900\u001b[0m \u001b[38;5;28;01mreturn\u001b[39;00m new_checkpoint\n",
      "File \u001b[1;32m~\\Miniconda3\\envs\\skyprix\\lib\\site-packages\\great_expectations\\data_context\\util.py:64\u001b[0m, in \u001b[0;36minstantiate_class_from_config\u001b[1;34m(config, runtime_environment, config_defaults)\u001b[0m\n\u001b[0;32m     62\u001b[0m         class_name \u001b[38;5;241m=\u001b[39m config_defaults\u001b[38;5;241m.\u001b[39mpop(\u001b[38;5;124m\"\u001b[39m\u001b[38;5;124mclass_name\u001b[39m\u001b[38;5;124m\"\u001b[39m)\n\u001b[0;32m     63\u001b[0m     \u001b[38;5;28;01mexcept\u001b[39;00m \u001b[38;5;167;01mKeyError\u001b[39;00m:\n\u001b[1;32m---> 64\u001b[0m         \u001b[38;5;28;01mraise\u001b[39;00m \u001b[38;5;167;01mKeyError\u001b[39;00m(\n\u001b[0;32m     65\u001b[0m             \u001b[38;5;124m\"\u001b[39m\u001b[38;5;124mNeither config : \u001b[39m\u001b[38;5;132;01m{}\u001b[39;00m\u001b[38;5;124m nor config_defaults : \u001b[39m\u001b[38;5;132;01m{}\u001b[39;00m\u001b[38;5;124m contains a class_name key.\u001b[39m\u001b[38;5;124m\"\u001b[39m\u001b[38;5;241m.\u001b[39mformat(\n\u001b[0;32m     66\u001b[0m                 config,\n\u001b[0;32m     67\u001b[0m                 config_defaults,\n\u001b[0;32m     68\u001b[0m             )\n\u001b[0;32m     69\u001b[0m         )\n\u001b[0;32m     70\u001b[0m \u001b[38;5;28;01melse\u001b[39;00m:\n\u001b[0;32m     71\u001b[0m     \u001b[38;5;66;03m# Pop the value without using it, to avoid sending an unwanted value to the config_class\u001b[39;00m\n\u001b[0;32m     72\u001b[0m     config_defaults\u001b[38;5;241m.\u001b[39mpop(\u001b[38;5;124m\"\u001b[39m\u001b[38;5;124mclass_name\u001b[39m\u001b[38;5;124m\"\u001b[39m, \u001b[38;5;28;01mNone\u001b[39;00m)\n",
      "\u001b[1;31mKeyError\u001b[0m: \"Neither config : {'name': 'my_checkpoint', 'validations': [{'batch_request': {'datasource_name': 'my_new_datasource', 'data_asset_name': 'my_flight_data_asset'}, 'expectation_suite_name': 'validation_suite'}]} nor config_defaults : {} contains a class_name key.\""
     ]
    }
   ],
   "source": [
    "checkpoint = context.add_or_update_checkpoint(\n",
    "    name=\"my_checkpoint\",\n",
    "    validations=[\n",
    "        {\n",
    "            \"batch_request\": my_batch_request,\n",
    "            \"expectation_suite_name\": \"validation_suite\",\n",
    "        },\n",
    "    ]\n",
    ")\n",
    "checkpoint_result = checkpoint.run(batch_request=my_batch_request, expectation_suite_name=\"validation_suite\")\n",
    "print(checkpoint_result)\n"
   ]
  },
  {
   "cell_type": "code",
   "execution_count": null,
   "id": "2671d4d9-7496-4edf-9616-4f6b7657d07a",
   "metadata": {},
   "outputs": [],
   "source": []
  }
 ],
 "metadata": {
  "kernelspec": {
   "display_name": "Python 3 (ipykernel)",
   "language": "python",
   "name": "python3"
  },
  "language_info": {
   "codemirror_mode": {
    "name": "ipython",
    "version": 3
   },
   "file_extension": ".py",
   "mimetype": "text/x-python",
   "name": "python",
   "nbconvert_exporter": "python",
   "pygments_lexer": "ipython3",
   "version": "3.10.15"
  }
 },
 "nbformat": 4,
 "nbformat_minor": 5
}
