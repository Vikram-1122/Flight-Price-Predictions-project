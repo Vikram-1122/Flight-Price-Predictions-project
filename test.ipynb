{
 "cells": [
  {
   "cell_type": "code",
   "execution_count": 4,
   "id": "2214d5a2-da6a-4c2d-a5b8-2df4c1d8fb9a",
   "metadata": {},
   "outputs": [
    {
     "name": "stdout",
     "output_type": "stream",
     "text": [
      "['zero' 'one' 'two_or_more']\n"
     ]
    }
   ],
   "source": [
    "import pandas as pd\n",
    "\n",
    "# Load the dataset\n",
    "file_path = 'C:/Users/sumith singh/dsp-skyprix/flight_data.csv'\n",
    "data = pd.read_csv(file_path)\n",
    "\n",
    "# Print unique values in 'stops' column\n",
    "print(data['stops'].unique())\n"
   ]
  },
  {
   "cell_type": "code",
   "execution_count": 1,
   "id": "fa6f2aa2-bc8e-4294-8099-a75fb35b9480",
   "metadata": {},
   "outputs": [
    {
     "name": "stderr",
     "output_type": "stream",
     "text": [
      "C:\\Users\\sumith singh\\Miniconda3\\envs\\sky\\Lib\\site-packages\\airflow\\__init__.py:36: RuntimeWarning: Airflow currently can be run on POSIX-compliant Operating Systems. For development, it is regularly tested on fairly modern Linux Distros and recent versions of macOS. On Windows you can run it via WSL2 (Windows Subsystem for Linux 2) or via Linux Containers. The work to add Windows support is tracked via https://github.com/apache/airflow/issues/10388, but it is not a high priority.\n",
      "  warnings.warn(\n",
      "OSError while attempting to symlink the latest log directory\n"
     ]
    },
    {
     "name": "stdout",
     "output_type": "stream",
     "text": [
      "['get_provider_info', 'hooks', 'notifications', 'operators']\n"
     ]
    }
   ],
   "source": [
    "import pkgutil\n",
    "import airflow.providers.smtp\n",
    "\n",
    "print([name for _, name, _ in pkgutil.iter_modules(airflow.providers.smtp.__path__)])\n"
   ]
  },
  {
   "cell_type": "code",
   "execution_count": 2,
   "id": "b0ac133c-9841-41bf-a190-ddf0fd6f1668",
   "metadata": {},
   "outputs": [],
   "source": [
    "import airflow.providers.smtp.operators as operators\n",
    "import inspect\n",
    "\n",
    "for name, obj in inspect.getmembers(operators):\n",
    "    if inspect.isclass(obj):\n",
    "        print(name)\n"
   ]
  },
  {
   "cell_type": "code",
   "execution_count": 3,
   "id": "9d2a949b-583f-44e3-b770-9819853b0c95",
   "metadata": {},
   "outputs": [
    {
     "name": "stdout",
     "output_type": "stream",
     "text": [
      "['__all__', '__builtins__', '__cached__', '__doc__', '__file__', '__loader__', '__name__', '__package__', '__path__', '__spec__', '__version__', 'airflow_version', 'annotations', 'operators', 'packaging']\n"
     ]
    }
   ],
   "source": [
    "import airflow.providers.smtp\n",
    "\n",
    "print(dir(airflow.providers.smtp))\n"
   ]
  },
  {
   "cell_type": "code",
   "execution_count": 4,
   "id": "5ffc0de1-e464-46b0-b9a8-dd4036d7f333",
   "metadata": {},
   "outputs": [],
   "source": [
    "import airflow.providers.smtp.operators as operators\n",
    "import inspect\n",
    "\n",
    "for name, obj in inspect.getmembers(operators):\n",
    "    if inspect.isclass(obj):\n",
    "        print(name)\n"
   ]
  },
  {
   "cell_type": "code",
   "execution_count": 5,
   "id": "8fde5dd6-6488-4815-a4c4-aa7ab23c6916",
   "metadata": {},
   "outputs": [],
   "source": [
    "import airflow.providers.smtp.notifications as notifications\n",
    "import inspect\n",
    "\n",
    "for name, obj in inspect.getmembers(notifications):\n",
    "    if inspect.isclass(obj):\n",
    "        print(name)\n"
   ]
  },
  {
   "cell_type": "code",
   "execution_count": 6,
   "id": "db165411-6caa-4e35-813b-e24bd435b684",
   "metadata": {},
   "outputs": [],
   "source": [
    "import airflow.providers.smtp.hooks as hooks\n",
    "import inspect\n",
    "\n",
    "for name, obj in inspect.getmembers(hooks):\n",
    "    if inspect.isclass(obj):\n",
    "        print(name)\n"
   ]
  },
  {
   "cell_type": "code",
   "execution_count": 9,
   "id": "bc7b5401-7b83-49a0-965f-49bc9bc35036",
   "metadata": {},
   "outputs": [
    {
     "name": "stdout",
     "output_type": "stream",
     "text": [
      "Failed to send email: (535, b'5.7.8 Username and Password not accepted. For more information, go to\\n5.7.8  https://support.google.com/mail/?p=BadCredentials a640c23a62f3a-a8a62038d4dsm190541666b.51 - gsmtp')\n"
     ]
    }
   ],
   "source": [
    "import smtplib\n",
    "from email.mime.text import MIMEText\n",
    "\n",
    "sender = 'dspskyprix@gmail.com'\n",
    "recipient = 'dspskyprix@gmail.com'\n",
    "subject = 'Test Email'\n",
    "body = 'This is a test email.'\n",
    "\n",
    "msg = MIMEText(body)\n",
    "msg['Subject'] = subject\n",
    "msg['From'] = sender\n",
    "msg['To'] = recipient\n",
    "\n",
    "try:\n",
    "    with smtplib.SMTP('smtp.gmail.com', 587) as server:\n",
    "        server.starttls()\n",
    "        server.login(sender, 'Dspskyprix@27')\n",
    "        server.sendmail(sender, [recipient], msg.as_string())\n",
    "        print(\"Email sent successfully\")\n",
    "except Exception as e:\n",
    "    print(f\"Failed to send email: {e}\")\n"
   ]
  },
  {
   "cell_type": "code",
   "execution_count": null,
   "id": "00c015ca-7bd4-49b4-88a8-ce367616f407",
   "metadata": {},
   "outputs": [],
   "source": []
  }
 ],
 "metadata": {
  "kernelspec": {
   "display_name": "Python 3 (ipykernel)",
   "language": "python",
   "name": "python3"
  },
  "language_info": {
   "codemirror_mode": {
    "name": "ipython",
    "version": 3
   },
   "file_extension": ".py",
   "mimetype": "text/x-python",
   "name": "python",
   "nbconvert_exporter": "python",
   "pygments_lexer": "ipython3",
   "version": "3.12.4"
  }
 },
 "nbformat": 4,
 "nbformat_minor": 5
}
