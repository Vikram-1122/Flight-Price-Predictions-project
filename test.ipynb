{
 "cells": [
  {
   "cell_type": "code",
   "execution_count": 4,
   "id": "2214d5a2-da6a-4c2d-a5b8-2df4c1d8fb9a",
   "metadata": {},
   "outputs": [
    {
     "name": "stdout",
     "output_type": "stream",
     "text": [
      "['zero' 'one' 'two_or_more']\n"
     ]
    }
   ],
   "source": [
    "import pandas as pd\n",
    "\n",
    "# Load the dataset\n",
    "file_path = 'C:/Users/sumith singh/dsp-skyprix/flight_data.csv'\n",
    "data = pd.read_csv(file_path)\n",
    "\n",
    "# Print unique values in 'stops' column\n",
    "print(data['stops'].unique())\n"
   ]
  },
  {
   "cell_type": "code",
   "execution_count": null,
   "id": "fa6f2aa2-bc8e-4294-8099-a75fb35b9480",
   "metadata": {},
   "outputs": [],
   "source": []
  }
 ],
 "metadata": {
  "kernelspec": {
   "display_name": "Python 3 (ipykernel)",
   "language": "python",
   "name": "python3"
  },
  "language_info": {
   "codemirror_mode": {
    "name": "ipython",
    "version": 3
   },
   "file_extension": ".py",
   "mimetype": "text/x-python",
   "name": "python",
   "nbconvert_exporter": "python",
   "pygments_lexer": "ipython3",
   "version": "3.12.4"
  }
 },
 "nbformat": 4,
 "nbformat_minor": 5
}
